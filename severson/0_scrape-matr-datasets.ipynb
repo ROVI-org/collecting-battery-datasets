{
 "cells": [
  {
   "cell_type": "markdown",
   "id": "8eae7171-25e8-4b30-a903-18e578ca68e7",
   "metadata": {},
   "source": [
    "# Scrape Data from Matr.IO\n",
    "\n",
    "The Matr.IO webpage contains the datasets used by [Severson et al.](https://data.matr.io/1/projects/5c48dd2bc625d700019f3204) and [Attia et al.](https://data.matr.io/1/projects/5d80e633f405260001c0b60a).\n",
    "We are going to download each of the Arbin output files (extension CSV) used by them into a raw data directory."
   ]
  },
  {
   "cell_type": "code",
   "execution_count": 1,
   "id": "9a7c4f42-b902-4193-a6b0-d9849b538969",
   "metadata": {
    "tags": []
   },
   "outputs": [],
   "source": [
    "from selenium.webdriver.support import expected_conditions as EC\n",
    "from selenium.webdriver.support.wait import WebDriverWait\n",
    "from selenium.webdriver.common.by import By\n",
    "from selenium import webdriver\n",
    "from pathlib import Path\n",
    "from tqdm import tqdm\n",
    "import requests\n",
    "import selenium\n",
    "import re"
   ]
  },
  {
   "cell_type": "markdown",
   "id": "6030417e-e3ff-4fe0-89a9-4ed7a16d04e4",
   "metadata": {},
   "source": [
    "Configuration"
   ]
  },
  {
   "cell_type": "code",
   "execution_count": 2,
   "id": "f6e96f67-fa96-4306-91a6-cd9c6c21a1dc",
   "metadata": {
    "tags": []
   },
   "outputs": [],
   "source": [
    "base_pages = [\n",
    "    'https://data.matr.io/1/projects/5c48dd2bc625d700019f3204',  # Severson\n",
    "    'https://data.matr.io/1/projects/5d80e633f405260001c0b60a',  # Attia\n",
    "]\n",
    "out_dir = Path('raw/')"
   ]
  },
  {
   "cell_type": "code",
   "execution_count": 3,
   "id": "d5846d43-34ed-47ef-be42-6415eded9fb9",
   "metadata": {
    "tags": []
   },
   "outputs": [],
   "source": [
    "out_dir.mkdir(parents=True, exist_ok=True)"
   ]
  },
  {
   "cell_type": "markdown",
   "id": "e9ef62e4-53ef-4f66-8317-aa487e126130",
   "metadata": {},
   "source": [
    "## Initialize Web Driver\n",
    "We are going to use Selenium to drive a chrome web broswer"
   ]
  },
  {
   "cell_type": "code",
   "execution_count": 4,
   "id": "5c37d1ba-18d5-4d86-943e-2caa0ccc6975",
   "metadata": {
    "tags": []
   },
   "outputs": [],
   "source": [
    "driver = webdriver.Chrome()"
   ]
  },
  {
   "cell_type": "markdown",
   "id": "e96f71da-c551-442f-9111-c5cc9d8e5352",
   "metadata": {},
   "source": [
    "## Make Functions\n",
    "We need a function to iterate from a page into each of its sub pages (e.g., from a project to a batch of experiments) and one to download the Arbin file from within the experiment page."
   ]
  },
  {
   "cell_type": "code",
   "execution_count": 5,
   "id": "f7aedddb-423b-4add-8a97-b4031dfdf512",
   "metadata": {
    "tags": []
   },
   "outputs": [],
   "source": [
    "def iterate_into_sub_pages(driver: webdriver.Chrome, class_name: str = 'MuiListItem-container'):\n",
    "    \"\"\"Adjust the driver such that it iterates through the web pages\n",
    "    \n",
    "    Args:\n",
    "        driver: Webdrive to be pushed around already at the desired page\n",
    "        class_name: Class of the element to be clicked on\n",
    "    Yields:\n",
    "        Driver after clicking into the sub page\n",
    "    \"\"\"\n",
    "    # Count the number of elements\n",
    "    element = WebDriverWait(driver, 10).until(\n",
    "        EC.presence_of_element_located((By.CLASS_NAME, class_name))\n",
    "    )  # Wait until they appear\n",
    "    num_elems = len(driver.find_elements(By.CLASS_NAME, class_name))\n",
    "\n",
    "    # Loop over each element\n",
    "    for elem_id in range(num_elems):\n",
    "        elem = driver.find_elements(By.CLASS_NAME, class_name)[elem_id]  # Assume the order never changes\n",
    "        elem.click()\n",
    "        yield driver.current_url\n",
    "        driver.back()"
   ]
  },
  {
   "cell_type": "code",
   "execution_count": 6,
   "id": "ac1a6dc6-e813-4b75-ad97-1927ea7e4c86",
   "metadata": {
    "tags": []
   },
   "outputs": [],
   "source": [
    "def download_arbin_file(driver: webdriver.Chrome) -> Path:\n",
    "    \"\"\"Download the Arbin file from the data page\n",
    "    \n",
    "    Args:\n",
    "        driver: Drive already navigated to the target page\n",
    "    Returns:\n",
    "        Path to the downloaded file\n",
    "    \"\"\"\n",
    "    \n",
    "    # Find the URL of the dataset (last button) of the page\n",
    "    class_name = 'MuiButton-sizeSmall'\n",
    "    element = WebDriverWait(driver, 10).until(\n",
    "        EC.presence_of_element_located((By.CLASS_NAME, class_name))\n",
    "    )  # Wait until they appear\n",
    "    buttons = driver.find_elements(By.CLASS_NAME, class_name)\n",
    "    assert len(buttons) == 3\n",
    "    last_button = buttons[-1]\n",
    "    \n",
    "    download_url = last_button.get_attribute('href')\n",
    "    \n",
    "    # Download to a target folder\n",
    "    res = requests.get(download_url, stream=True)\n",
    "    assert res.status_code == 200\n",
    "    filename = res.headers['Content-Disposition'][22:-1]\n",
    "    with (out_dir / filename).open('wb') as fp:\n",
    "        for content in res.iter_content(chunk_size=1024 * 32):\n",
    "            fp.write(content)"
   ]
  },
  {
   "cell_type": "markdown",
   "id": "69e6fa52-5bbb-43db-bc34-4324ffec077c",
   "metadata": {},
   "source": [
    "## Download everything\n",
    "Download all data from each of the project pages"
   ]
  },
  {
   "cell_type": "code",
   "execution_count": 7,
   "id": "4c34ed54-02a6-4037-91d6-cc28773142f5",
   "metadata": {
    "tags": []
   },
   "outputs": [
    {
     "name": "stderr",
     "output_type": "stream",
     "text": [
      "376it [15:51,  4.42s/it]"
     ]
    }
   ],
   "source": [
    "pbar = tqdm()\n",
    "for project_page in base_pages:\n",
    "    driver.get(project_page)\n",
    "    for batch_url in iterate_into_sub_pages(driver):\n",
    "        for item_url in iterate_into_sub_pages(driver):\n",
    "            download_arbin_file(driver)\n",
    "            pbar.update(1)"
   ]
  },
  {
   "cell_type": "markdown",
   "id": "fa3a41b1-9bc6-4db1-a4ad-398613d74884",
   "metadata": {},
   "source": [
    "Once we're done, close out"
   ]
  },
  {
   "cell_type": "code",
   "execution_count": 8,
   "id": "2024ce04-6b8d-430c-b27c-7e24be38a83f",
   "metadata": {
    "tags": []
   },
   "outputs": [],
   "source": [
    "driver.close()"
   ]
  },
  {
   "cell_type": "code",
   "execution_count": null,
   "id": "fb525687-176b-4c21-bb0f-4af458541c0e",
   "metadata": {},
   "outputs": [],
   "source": []
  }
 ],
 "metadata": {
  "kernelspec": {
   "display_name": "Python 3 (ipykernel)",
   "language": "python",
   "name": "python3"
  },
  "language_info": {
   "codemirror_mode": {
    "name": "ipython",
    "version": 3
   },
   "file_extension": ".py",
   "mimetype": "text/x-python",
   "name": "python",
   "nbconvert_exporter": "python",
   "pygments_lexer": "ipython3",
   "version": "3.10.13"
  }
 },
 "nbformat": 4,
 "nbformat_minor": 5
}
