{
 "cells": [
  {
   "cell_type": "markdown",
   "id": "75d05330-c39c-49f7-9cc6-10fa7d356595",
   "metadata": {},
   "source": [
    "# Convert Data into HDF5 format\n",
    "Get the metadata from the cell files"
   ]
  },
  {
   "cell_type": "code",
   "execution_count": 1,
   "id": "8599bb0e-c5e7-42e9-9418-899980423620",
   "metadata": {
    "tags": []
   },
   "outputs": [],
   "source": [
    "from batdata.extractors.arbin import ArbinExtractor\n",
    "from batdata.schemas import BatteryMetadata\n",
    "from pathlib import Path\n",
    "from tqdm import tqdm\n",
    "import pandas as pd\n",
    "import shutil\n",
    "import os\n",
    "import re"
   ]
  },
  {
   "cell_type": "markdown",
   "id": "1b5cbaae-f5f9-4ee7-80a7-e67adddbecb6",
   "metadata": {},
   "source": [
    "Configuration"
   ]
  },
  {
   "cell_type": "code",
   "execution_count": 2,
   "id": "30778447-ed9f-4bdf-991f-c840ded37eb4",
   "metadata": {
    "tags": []
   },
   "outputs": [],
   "source": [
    "source_dir = Path('raw')\n",
    "output_dir = Path('processed/')\n",
    "output_dir.mkdir(exist_ok=True, parents=True)"
   ]
  },
  {
   "cell_type": "markdown",
   "id": "f178cfdd-7226-4b97-9d28-ecf8968c21f0",
   "metadata": {},
   "source": [
    "Cells to combine based on [2017-05-12 metadata](https://data.matr.io/1/projects/5c48dd2bc625d700019f3204/batches/5c86c0b5fa2ede00015ddf67)"
   ]
  },
  {
   "cell_type": "code",
   "execution_count": 3,
   "id": "c960357a-9e32-4715-8b35-2efaa72077cd",
   "metadata": {
    "tags": []
   },
   "outputs": [],
   "source": [
    "channels_to_combine = {\n",
    "    ('2017-05-12', '2017-06-30'): [1, 2, 3, 5, 6]\n",
    "}  # Map of (date_1, date_2) -> (list of channels to combine)"
   ]
  },
  {
   "cell_type": "markdown",
   "id": "fd275e3a-1c90-454c-81a4-166b9017a418",
   "metadata": {},
   "source": [
    "Cells to exclude. Pairs of (date, channels)"
   ]
  },
  {
   "cell_type": "code",
   "execution_count": 4,
   "id": "3c8d3d03-9004-4566-b08d-b2b5a515b8e4",
   "metadata": {
    "tags": []
   },
   "outputs": [],
   "source": [
    "to_exclude = {\n",
    "    '2017-06-30': [10],  # Died early for unknown reasons\n",
    "    '2018-04-12': [46],  # Electrical problems\n",
    "    '2018-08-02': [17, 27],  # Failed to start\n",
    "    '2019-01-24': [4, 5, 45, 46, 48]  # Cycling issues\n",
    "}"
   ]
  },
  {
   "cell_type": "markdown",
   "id": "ba23ba19-fe3c-4e45-8689-5bc0c1545030",
   "metadata": {},
   "source": [
    "## Gather Metadata of Cells\n",
    "Gather the metadata about our cells given their filenames and other information we know about the tests"
   ]
  },
  {
   "cell_type": "markdown",
   "id": "215a177c-1501-4245-9fa1-67467df9e6ec",
   "metadata": {},
   "source": [
    "Define the regex for reading metadata from filenames\n",
    "\n",
    "Some files, like `2017-05-12_5_4C-50per_3_6C_CH21`, are from a canvas of different charging policies. Their filenames follow the pattern, `<date>_<charge_1>_<SOC_switch>_<charge_2>_CH<channel_number>`, where\n",
    "  - date: Test date\n",
    "  - charge_1: First charge rate\n",
    "  - charge_2: Second charge rate\n",
    "  - SOC_switch: SOC at which charge rate switches\n",
    "  - channel_number: Channel number in the testing machine\n"
   ]
  },
  {
   "cell_type": "code",
   "execution_count": 5,
   "id": "c5bb36f7-cf66-45f8-8ce3-4c99c1e1f7bb",
   "metadata": {
    "tags": []
   },
   "outputs": [],
   "source": [
    "canvas_regex = re.compile(r\"(?P<date>\\d{4}-\\d{2}-\\d{2})_(?P<charge1>[\\d_]+)C-\"\n",
    "                          r\"(?P<soc_switch>\\d+)per_(?P<charge2>[\\d_]+)C_CH(?P<channel>\\d+)\\.csv\")"
   ]
  },
  {
   "cell_type": "markdown",
   "id": "7930ab29-b766-4c45-a8b0-9ffb5184a074",
   "metadata": {},
   "source": [
    "Others, like `2019-01-24_batch9_CH6.csv`, have a less informative batch name"
   ]
  },
  {
   "cell_type": "code",
   "execution_count": 6,
   "id": "9c9a26f6-0652-4784-b1ca-4b83597e3831",
   "metadata": {
    "tags": []
   },
   "outputs": [],
   "source": [
    "other_regex = re.compile(r\"(?P<date>\\d{4}-\\d{2}-\\d{2})_(?P<name>\\w+)_CH(?P<channel>\\d+)\\.csv\")"
   ]
  },
  {
   "cell_type": "markdown",
   "id": "c8778c8a-22be-4d34-a74a-a7ee6f3e5523",
   "metadata": {},
   "source": [
    "Most of the metadata for the batteries are the same"
   ]
  },
  {
   "cell_type": "code",
   "execution_count": 7,
   "id": "0948a2d3-7fb1-44c0-a123-71eb0884025d",
   "metadata": {
    "tags": []
   },
   "outputs": [],
   "source": [
    "# Metadata for all of the batteries\n",
    "test_metadata = {\n",
    "    'cycler': 'Arbin LBT Potentiostat',\n",
    "    'set_temperature': 30.0,\n",
    "    'manufacturer': 'A123 Systems',\n",
    "    'design': 'APR18650M1A',\n",
    "    'nominal_capacity': 1.1,\n",
    "    'anode': 'graphite',\n",
    "    'cathode': 'LFP',\n",
    "    'source': 'Stanford University',\n",
    "}"
   ]
  },
  {
   "cell_type": "markdown",
   "id": "23fb2dba-8354-4cfd-a4b0-17624b4e8187",
   "metadata": {},
   "source": [
    "The source data varies depending on the date."
   ]
  },
  {
   "cell_type": "code",
   "execution_count": 8,
   "id": "cbd9e9b5-5790-45c2-b405-cf27846a12aa",
   "metadata": {
    "tags": []
   },
   "outputs": [
    {
     "data": {
      "text/plain": [
       "{'dataset_name': 'Attia et al., Nature (2020)',\n",
       " 'associated_ids': ['https://doi.org/10.1038/s41586-020-1994-5',\n",
       "  'https://data.matr.io/1/projects/5d80e633f405260001c0b60a']}"
      ]
     },
     "execution_count": 8,
     "metadata": {},
     "output_type": "execute_result"
    }
   ],
   "source": [
    "def get_metadata_by_date(date: str) -> dict:\n",
    "    if date > '2018-05':\n",
    "        return {'dataset_name': 'Attia et al., Nature (2020)',\n",
    "            'associated_ids': [\n",
    "                'https://doi.org/10.1038/s41586-020-1994-5',\n",
    "                'https://data.matr.io/1/projects/5d80e633f405260001c0b60a'\n",
    "            ]}\n",
    "    else:\n",
    "        return {'dataset_name': 'Severson et al., Nature Energy (2019)',\n",
    "            'associated_ids': [\n",
    "                'https://doi.org/10.1038/s41560-019-0356-8',\n",
    "                'https://data.matr.io/1/projects/5c48dd2bc625d700019f3204'\n",
    "            ]}\n",
    "get_metadata_by_date('2020-10')"
   ]
  },
  {
   "cell_type": "code",
   "execution_count": 9,
   "id": "9998edce-e7ef-4056-8334-beae7f12cabe",
   "metadata": {
    "tags": []
   },
   "outputs": [],
   "source": [
    "def metadata_from_filename(path: Path) -> dict:\n",
    "    \"\"\"Get the metadata about a battery from its filename\n",
    "    \n",
    "    Args:\n",
    "        filename: Filename of an Arbin file\n",
    "    Returns:\n",
    "        Metadata dictionary\n",
    "    \"\"\"\n",
    "    # Get metdata from filename\n",
    "    filename = path.name\n",
    "    for regex in [canvas_regex, other_regex]:\n",
    "        match = regex.match(filename)\n",
    "        if match is not None:\n",
    "            break\n",
    "    else:\n",
    "        raise ValueError(f'Failed to parse: {filename}')\n",
    "\n",
    "    # Store the data in a dict\n",
    "    metadata = match.groupdict()\n",
    "    metadata['channel'] = int(metadata['channel'])\n",
    "    metadata['path'] = path\n",
    "    metadata['filename'] = filename\n",
    "    return metadata"
   ]
  },
  {
   "cell_type": "code",
   "execution_count": 10,
   "id": "b0588e2f-60b8-499f-9236-7663a8e5249e",
   "metadata": {
    "tags": []
   },
   "outputs": [
    {
     "name": "stdout",
     "output_type": "stream",
     "text": [
      "Loaded data from 376 cells\n"
     ]
    }
   ],
   "source": [
    "metadata = [metadata_from_filename(p) for p in sorted(source_dir.glob('*.csv'))]\n",
    "print(f'Loaded data from {len(metadata)} cells')"
   ]
  },
  {
   "cell_type": "code",
   "execution_count": 11,
   "id": "0b413a67-6bef-470a-a963-8c2d82be52ec",
   "metadata": {
    "tags": []
   },
   "outputs": [
    {
     "data": {
      "text/html": [
       "<div>\n",
       "<style scoped>\n",
       "    .dataframe tbody tr th:only-of-type {\n",
       "        vertical-align: middle;\n",
       "    }\n",
       "\n",
       "    .dataframe tbody tr th {\n",
       "        vertical-align: top;\n",
       "    }\n",
       "\n",
       "    .dataframe thead th {\n",
       "        text-align: right;\n",
       "    }\n",
       "</style>\n",
       "<table border=\"1\" class=\"dataframe\">\n",
       "  <thead>\n",
       "    <tr style=\"text-align: right;\">\n",
       "      <th></th>\n",
       "      <th>date</th>\n",
       "      <th>charge1</th>\n",
       "      <th>soc_switch</th>\n",
       "      <th>charge2</th>\n",
       "      <th>channel</th>\n",
       "      <th>path</th>\n",
       "      <th>filename</th>\n",
       "      <th>name</th>\n",
       "    </tr>\n",
       "  </thead>\n",
       "  <tbody>\n",
       "    <tr>\n",
       "      <th>0</th>\n",
       "      <td>2017-05-12</td>\n",
       "      <td>3_6</td>\n",
       "      <td>80</td>\n",
       "      <td>3_6</td>\n",
       "      <td>1</td>\n",
       "      <td>raw/2017-05-12_3_6C-80per_3_6C_CH1.csv</td>\n",
       "      <td>2017-05-12_3_6C-80per_3_6C_CH1.csv</td>\n",
       "      <td>NaN</td>\n",
       "    </tr>\n",
       "    <tr>\n",
       "      <th>1</th>\n",
       "      <td>2017-05-12</td>\n",
       "      <td>3_6</td>\n",
       "      <td>80</td>\n",
       "      <td>3_6</td>\n",
       "      <td>2</td>\n",
       "      <td>raw/2017-05-12_3_6C-80per_3_6C_CH2.csv</td>\n",
       "      <td>2017-05-12_3_6C-80per_3_6C_CH2.csv</td>\n",
       "      <td>NaN</td>\n",
       "    </tr>\n",
       "    <tr>\n",
       "      <th>2</th>\n",
       "      <td>2017-05-12</td>\n",
       "      <td>3_6</td>\n",
       "      <td>80</td>\n",
       "      <td>3_6</td>\n",
       "      <td>3</td>\n",
       "      <td>raw/2017-05-12_3_6C-80per_3_6C_CH3.csv</td>\n",
       "      <td>2017-05-12_3_6C-80per_3_6C_CH3.csv</td>\n",
       "      <td>NaN</td>\n",
       "    </tr>\n",
       "    <tr>\n",
       "      <th>3</th>\n",
       "      <td>2017-05-12</td>\n",
       "      <td>4</td>\n",
       "      <td>80</td>\n",
       "      <td>4</td>\n",
       "      <td>5</td>\n",
       "      <td>raw/2017-05-12_4C-80per_4C_CH5.csv</td>\n",
       "      <td>2017-05-12_4C-80per_4C_CH5.csv</td>\n",
       "      <td>NaN</td>\n",
       "    </tr>\n",
       "    <tr>\n",
       "      <th>4</th>\n",
       "      <td>2017-05-12</td>\n",
       "      <td>4</td>\n",
       "      <td>80</td>\n",
       "      <td>4</td>\n",
       "      <td>6</td>\n",
       "      <td>raw/2017-05-12_4C-80per_4C_CH6.csv</td>\n",
       "      <td>2017-05-12_4C-80per_4C_CH6.csv</td>\n",
       "      <td>NaN</td>\n",
       "    </tr>\n",
       "  </tbody>\n",
       "</table>\n",
       "</div>"
      ],
      "text/plain": [
       "         date charge1 soc_switch charge2  channel  \\\n",
       "0  2017-05-12     3_6         80     3_6        1   \n",
       "1  2017-05-12     3_6         80     3_6        2   \n",
       "2  2017-05-12     3_6         80     3_6        3   \n",
       "3  2017-05-12       4         80       4        5   \n",
       "4  2017-05-12       4         80       4        6   \n",
       "\n",
       "                                     path                            filename  \\\n",
       "0  raw/2017-05-12_3_6C-80per_3_6C_CH1.csv  2017-05-12_3_6C-80per_3_6C_CH1.csv   \n",
       "1  raw/2017-05-12_3_6C-80per_3_6C_CH2.csv  2017-05-12_3_6C-80per_3_6C_CH2.csv   \n",
       "2  raw/2017-05-12_3_6C-80per_3_6C_CH3.csv  2017-05-12_3_6C-80per_3_6C_CH3.csv   \n",
       "3      raw/2017-05-12_4C-80per_4C_CH5.csv      2017-05-12_4C-80per_4C_CH5.csv   \n",
       "4      raw/2017-05-12_4C-80per_4C_CH6.csv      2017-05-12_4C-80per_4C_CH6.csv   \n",
       "\n",
       "  name  \n",
       "0  NaN  \n",
       "1  NaN  \n",
       "2  NaN  \n",
       "3  NaN  \n",
       "4  NaN  "
      ]
     },
     "execution_count": 11,
     "metadata": {},
     "output_type": "execute_result"
    }
   ],
   "source": [
    "metadata = pd.DataFrame(metadata)\n",
    "metadata.head()"
   ]
  },
  {
   "cell_type": "markdown",
   "id": "ee2a4c4c-85bd-49c4-9770-70b76862476c",
   "metadata": {},
   "source": [
    "## Drop Bad Cells\n",
    "Some cells had errors and, for now, we'll drop the data rather than figure out if we could use it"
   ]
  },
  {
   "cell_type": "code",
   "execution_count": 12,
   "id": "0ecaad3e-8ae4-4c1b-869e-f550e3299378",
   "metadata": {
    "tags": []
   },
   "outputs": [
    {
     "name": "stdout",
     "output_type": "stream",
     "text": [
      "Reduced data to 372 cells\n"
     ]
    }
   ],
   "source": [
    "for batch_date, bad_channels in to_exclude.items():\n",
    "    batch = metadata.query(f'date==\"{batch_date}\"')\n",
    "    bad_inds = batch[batch['channel'].apply(bad_channels.__contains__)].index\n",
    "    metadata.drop(bad_inds, inplace=True)\n",
    "print(f'Reduced data to {len(metadata)} cells')"
   ]
  },
  {
   "cell_type": "markdown",
   "id": "2aa94978-085f-4585-94ed-68b5e6b39d27",
   "metadata": {},
   "source": [
    "## Group Cells\n",
    "Some experiments are continuations of previous ones"
   ]
  },
  {
   "cell_type": "code",
   "execution_count": 13,
   "id": "ab00def4-411a-487d-ba56-1668af8039ca",
   "metadata": {
    "tags": []
   },
   "outputs": [
    {
     "name": "stdout",
     "output_type": "stream",
     "text": [
      "There are 367 unique cells\n"
     ]
    }
   ],
   "source": [
    "metadata['cell_id'] = range(len(metadata))  # Give each battery a unique cell ID\n",
    "metadata.sort_values(['date', 'channel'], inplace=True, ascending=True)  # To have reporducible order\n",
    "for batches, channels in channels_to_combine.items():\n",
    "    for channel in channels:\n",
    "        subset = metadata.query(f'channel=={channel}')\n",
    "        subset = subset[subset['date'].isin(batches)]\n",
    "        metadata.loc[subset.index, 'cell_id'] = subset['cell_id'].min()\n",
    "n_cells = len(set(metadata[\"cell_id\"]))\n",
    "print(f'There are {n_cells} unique cells')"
   ]
  },
  {
   "cell_type": "markdown",
   "id": "ecc1c7b6-5800-4ffa-b4f5-eb9f893aead5",
   "metadata": {},
   "source": [
    "## Output into HDF5 format\n",
    "For each unique cell, combine the records"
   ]
  },
  {
   "cell_type": "code",
   "execution_count": 14,
   "id": "5828db64-6409-4d88-b864-f6ca876a3b8c",
   "metadata": {
    "tags": []
   },
   "outputs": [],
   "source": [
    "extractor = ArbinExtractor()"
   ]
  },
  {
   "cell_type": "code",
   "execution_count": 15,
   "id": "caef959d-6080-49be-a008-b9384ca7a283",
   "metadata": {
    "tags": []
   },
   "outputs": [
    {
     "name": "stderr",
     "output_type": "stream",
     "text": [
      "100%|███████████████████████████████████████████████████████████████████████████████████████████████████████████████████████████████████████████████████████████████████████████████████████████████████████████████████████████████████████████████████| 367/367 [32:23<00:00,  5.30s/it]\n"
     ]
    }
   ],
   "source": [
    "for cell_index, (_, subset) in tqdm(enumerate(metadata.groupby('cell_id')), total=n_cells):\n",
    "    # Get the files to be parsed\n",
    "    files = subset['path'].tolist()\n",
    "    \n",
    "    # Get the source for the data\n",
    "    my_metadata = {**test_metadata, **get_metadata_by_date(subset['date'].iloc[0])}\n",
    "\n",
    "    # Make a metadata object\n",
    "    cell_metadata = subset.iloc[0]\n",
    "    my_metadata = BatteryMetadata(name=cell_metadata['filename'][:-4],\n",
    "                                  start_date=cell_metadata['date'], **my_metadata)\n",
    "\n",
    "    # Parse them into a single object\n",
    "    cell_data = extractor.parse_to_dataframe(files, metadata=my_metadata)\n",
    "\n",
    "    # Save it to disk\n",
    "    out_path = output_dir / f'{my_metadata.name}.h5'\n",
    "    cell_data.to_batdata_hdf(out_path, complevel=9)"
   ]
  },
  {
   "cell_type": "code",
   "execution_count": null,
   "id": "0443c8af-a52c-4440-8ac7-f03152b2b9f6",
   "metadata": {},
   "outputs": [],
   "source": []
  }
 ],
 "metadata": {
  "kernelspec": {
   "display_name": "Python 3 (ipykernel)",
   "language": "python",
   "name": "python3"
  },
  "language_info": {
   "codemirror_mode": {
    "name": "ipython",
    "version": 3
   },
   "file_extension": ".py",
   "mimetype": "text/x-python",
   "name": "python",
   "nbconvert_exporter": "python",
   "pygments_lexer": "ipython3",
   "version": "3.10.13"
  }
 },
 "nbformat": 4,
 "nbformat_minor": 5
}
