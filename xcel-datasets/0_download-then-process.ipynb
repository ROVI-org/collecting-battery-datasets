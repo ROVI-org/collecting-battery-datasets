{
 "cells": [
  {
   "cell_type": "markdown",
   "id": "6b58bb72-3a57-4efd-a6cd-d523719cd165",
   "metadata": {},
   "source": [
    "# Convert XCEL Data from BatteryData.Energy.Gov\n",
    "The XCEL dataset is housed on BatteryData.Energy.Gov, which is backed by [CKAN's REST API](https://docs.ckan.org/en/2.9/api/#example-importing-datasets-with-the-ckan-api). This notebook uses that API to download the data then convert it to HDF5 using batdata"
   ]
  },
  {
   "cell_type": "code",
   "execution_count": 1,
   "id": "74ef32b3-e0ad-44e9-bb3c-0218112cc40e",
   "metadata": {},
   "outputs": [],
   "source": [
    "from batdata.extractors.batterydata import BDExtractor\n",
    "from batdata.schemas import BatteryMetadata, BatteryDescription\n",
    "from tempfile import TemporaryDirectory\n",
    "from shutil import copyfileobj, rmtree\n",
    "from pathlib import Path\n",
    "import requests"
   ]
  },
  {
   "cell_type": "markdown",
   "id": "5169a24d-2ea9-46a7-84d3-4a7ba290aadc",
   "metadata": {},
   "source": [
    "Configuration"
   ]
  },
  {
   "cell_type": "code",
   "execution_count": 2,
   "id": "5738daac-8154-4d92-b831-6adafd1c3997",
   "metadata": {},
   "outputs": [],
   "source": [
    "dataset_ids = ['xcel-round-2-slpc_reupload_2', 'xcel-round-1-slpc_reupload_2']\n",
    "extractor = BDExtractor(store_all=True)"
   ]
  },
  {
   "cell_type": "markdown",
   "id": "ea8690b1-fb97-4946-9332-195c3098e8f9",
   "metadata": {},
   "source": [
    "## Part 1: Functions to download metadata\n",
    "Get the metadata from the collection description"
   ]
  },
  {
   "cell_type": "code",
   "execution_count": 3,
   "id": "8014dfad-8331-4b79-b0c6-5a37207c387c",
   "metadata": {},
   "outputs": [],
   "source": [
    "description = requests.get(f'https://batterydata.energy.gov/api/3/action/package_show?id={dataset_ids[0]}', timeout=15).json()"
   ]
  },
  {
   "cell_type": "markdown",
   "id": "4537cc64-a120-4cf0-b324-2c9121d7f4e6",
   "metadata": {},
   "source": [
    "The response from CKAN gives a bunch of metadata fields. Our first step is to map them to fields in the batdata schema"
   ]
  },
  {
   "cell_type": "code",
   "execution_count": 4,
   "id": "39760305-aed5-4042-85cd-e529b4d773d6",
   "metadata": {},
   "outputs": [
    {
     "data": {
      "text/plain": [
       "{'cell_type': ['Pouch cell'],\n",
       " 'creator_user_id': 'a853d711-0e37-44c9-80c9-a41d450c2da4',\n",
       " 'date_dataset_created': '2018-08-16',\n",
       " 'electrolyte_class_dataset': ['Organic liquid'],\n",
       " 'id': 'ef9dec93-17a2-445a-b58e-dc3eadb1f79d',\n",
       " 'isopen': False,\n",
       " 'manufacturer_supplier': 'CAMP',\n",
       " 'maximum_voltage': '4.1',\n",
       " 'metadata_created': '2024-04-19T21:18:38.938069',\n",
       " 'metadata_modified': '2024-04-20T00:45:59.866451',\n",
       " 'minimum_voltage': '3',\n",
       " 'name': 'xcel-round-2-slpc_reupload_2',\n",
       " 'negative_electrode': ['Graphite'],\n",
       " 'nominal_cell_capacity': '0.037',\n",
       " 'notes': 'Single layer pouch cell from CAMP (2.5mAh/cm2) at various charge protocols (CCCV and Multi-step) Corresponds to paper by Tanvir Tanim et al, 2020 (https://doi.org/10.1016/j.xcrp.2020.100114)\\r\\n\\r\\nTest Condition\\r\\n\\r\\nCell 4, 5, 6: 6C - CCCV\\r\\n\\r\\nCell 7, 8, 9: 6C - MS1\\r\\n\\r\\nCell 11, 12 - MS5-1\\r\\n\\r\\nCell 13, 15 - MS5-2\\r\\n\\r\\nCell 16, 17, 18: 4C - CCCV\\r\\n\\r\\nCell 19, 20, 21 - 4C - MS1',\n",
       " 'num_resources': 35,\n",
       " 'num_tags': 9,\n",
       " 'onec_cell_capacity': '0.032',\n",
       " 'organization': {'id': '67de8624-a528-43df-9b63-a65a410920bb',\n",
       "  'name': 'xcel',\n",
       "  'title': 'XCEL',\n",
       "  'type': 'project',\n",
       "  'description': 'XCEL Project ',\n",
       "  'image_url': '',\n",
       "  'created': '2023-06-08T17:38:37.007623',\n",
       "  'is_organization': True,\n",
       "  'approval_status': 'approved',\n",
       "  'state': 'active'},\n",
       " 'owner_org': '67de8624-a528-43df-9b63-a65a410920bb',\n",
       " 'poc_email_address': 'Sangwook.Kim@inl.gov',\n",
       " 'poc_institution': ['INL'],\n",
       " 'poc_name': 'skim',\n",
       " 'positive_electrode': ['NMC532'],\n",
       " 'private': False,\n",
       " 'reference_electrode': ['No'],\n",
       " 'separator_class': ['PP polymer'],\n",
       " 'state': 'active',\n",
       " 'technology': ['Li-ion'],\n",
       " 'title': 'XCEL Round 2 SLPC',\n",
       " 'type': 'dataset',\n",
       " 'tags': [{'display_name': 'fast charge',\n",
       "   'id': '04f1dafd-24f0-496e-b263-96038a9da8f8',\n",
       "   'name': 'fast charge',\n",
       "   'state': 'active',\n",
       "   'vocabulary_id': None}]}"
      ]
     },
     "execution_count": 4,
     "metadata": {},
     "output_type": "execute_result"
    }
   ],
   "source": [
    "dict((k, v) for k, v in description['result'].items() if v not in (None, '', []) and k != \"resources\")"
   ]
  },
  {
   "cell_type": "markdown",
   "id": "af143b85-c9b0-46e4-815d-aac439297607",
   "metadata": {},
   "source": [
    "We need a function to convert them to our metadata format"
   ]
  },
  {
   "cell_type": "code",
   "execution_count": 5,
   "id": "f16221e5-faf8-44c3-b256-24856dfddf1f",
   "metadata": {},
   "outputs": [
    {
     "data": {
      "text/plain": [
       "BatteryMetadata(name=None, comments=None, version='0.3.1', is_measurement=True, cycler=None, start_date=None, set_temperature=None, schedule=None, battery=BatteryDescription(manufacturer='CAMP', design='Pouch cell', layer_count=None, anode=ElectrodeDescription(name='Graphite', supplier=None, product=None, thickness=None, area=None, loading=None, porosity=None), cathode=ElectrodeDescription(name='NMC532', supplier=None, product=None, thickness=None, area=None, loading=None, porosity=None), electrolyte=ElectrolyteDescription(name='Organic liquid', additives=[]), nominal_capacity=0.037), modeling=None, source='XCEL', dataset_name='XCEL Round 2 SLPC', authors=None, associated_ids=[Url('https://doi.org/10.1016/j.xcrp.2020.100114'), Url('https://doi.org/10.1016/j.ensm.2021.07.001')], raw_data_columns={}, cycle_stats_columns={}, eis_data_columns={})"
      ]
     },
     "execution_count": 5,
     "metadata": {},
     "output_type": "execute_result"
    }
   ],
   "source": [
    "def generate_metadata(desc: dict) -> BatteryMetadata:\n",
    "    \"\"\"Assemble the battery metadata which is the same for all cells\n",
    "\n",
    "    Args:\n",
    "        desc: Data from the CKAN metadata response\n",
    "    Returns:\n",
    "        Metadata for the cell provenance and construction\n",
    "    \"\"\"\n",
    "\n",
    "    # Describe the battery\n",
    "    battery = BatteryDescription(\n",
    "        manufacturer=desc['manufacturer_supplier'],\n",
    "        design=\", \".join(desc['cell_type']),\n",
    "        anode={'name': \", \".join(desc['negative_electrode'])},\n",
    "        cathode={'name': \", \".join(desc['positive_electrode'])},\n",
    "        electrolyte={'name': \", \".join(desc['electrolyte_class_dataset'])},\n",
    "        nominal_capacity=desc['nominal_cell_capacity'],\n",
    "    )\n",
    "\n",
    "    # Describe the context of when it was tested\n",
    "    return BatteryMetadata(\n",
    "        source=desc['organization']['title'],\n",
    "        dataset_name=desc['title'],\n",
    "        associated_ids=[\n",
    "            'https://doi.org/10.1016/j.xcrp.2020.100114',\n",
    "            'https://doi.org/10.1016/j.ensm.2021.07.001'\n",
    "        ],\n",
    "        battery=battery,\n",
    "    )\n",
    "generate_metadata(description['result'])"
   ]
  },
  {
   "cell_type": "markdown",
   "id": "8af91ef1-3bfc-406d-ae0a-088f2e076894",
   "metadata": {},
   "source": [
    "## Grouping Data by Cell\n",
    "Each cell is in two files. We must group them together before parsing"
   ]
  },
  {
   "cell_type": "markdown",
   "id": "4250dc08-1d35-4c5d-afeb-67280030293a",
   "metadata": {},
   "source": [
    "Each file is described under the `resources` key of the results"
   ]
  },
  {
   "cell_type": "code",
   "execution_count": 6,
   "id": "c607fd94-63c6-4166-a333-181687d77683",
   "metadata": {},
   "outputs": [
    {
     "data": {
      "text/plain": [
       "{'cache_last_updated': None,\n",
       " 'cache_url': None,\n",
       " 'ckan_url': 'https://batterydata.energy.gov',\n",
       " 'created': '2024-04-19T21:19:19.797582',\n",
       " 'datastore_active': True,\n",
       " 'datastore_contains_all_records_of_source_file': True,\n",
       " 'description': None,\n",
       " 'format': 'CSV',\n",
       " 'hash': 'e4bad0269b2ebe91e7800385f8457755',\n",
       " 'id': '92ba973b-0cf2-4f43-a600-9b248b41976f',\n",
       " 'ignore_hash': False,\n",
       " 'last_modified': '2024-04-19T21:19:19.657813',\n",
       " 'metadata_modified': '2024-04-20T00:02:45.740998',\n",
       " 'mimetype': 'text/csv',\n",
       " 'mimetype_inner': None,\n",
       " 'name': 'P462 19 raw.csv',\n",
       " 'original_url': 'https://batterydata.energy.gov/dataset/ef9dec93-17a2-445a-b58e-dc3eadb1f79d/resource/92ba973b-0cf2-4f43-a600-9b248b41976f/download/p462-19-raw.csv',\n",
       " 'package_id': 'ef9dec93-17a2-445a-b58e-dc3eadb1f79d',\n",
       " 'position': 4,\n",
       " 'resource_id': '92ba973b-0cf2-4f43-a600-9b248b41976f',\n",
       " 'resource_type': None,\n",
       " 'set_url_type': False,\n",
       " 'size': 13038502,\n",
       " 'state': 'active',\n",
       " 'task_created': '2024-04-19 21:19:20.326576',\n",
       " 'url': 'https://batterydata.energy.gov/dataset/ef9dec93-17a2-445a-b58e-dc3eadb1f79d/resource/92ba973b-0cf2-4f43-a600-9b248b41976f/download/p462-19-raw.csv',\n",
       " 'url_type': 'upload'}"
      ]
     },
     "execution_count": 6,
     "metadata": {},
     "output_type": "execute_result"
    }
   ],
   "source": [
    "description['result']['resources'][4]"
   ]
  },
  {
   "cell_type": "markdown",
   "id": "bd43706f-b615-465c-9c6a-46060f08e1a8",
   "metadata": {},
   "source": [
    "We need a function to gather the download URLs to each then group them by name"
   ]
  },
  {
   "cell_type": "code",
   "execution_count": 7,
   "id": "8a87c837-965a-4189-9503-1734b6dfbf64",
   "metadata": {},
   "outputs": [
    {
     "data": {
      "text/plain": [
       "('p462-18-raw.csv',\n",
       " 'https://batterydata.energy.gov/dataset/ef9dec93-17a2-445a-b58e-dc3eadb1f79d/resource/21d92861-34bd-4d89-b523-d4337f868400/download/p462-18-raw.csv')"
      ]
     },
     "execution_count": 7,
     "metadata": {},
     "output_type": "execute_result"
    }
   ],
   "source": [
    "def get_file_paths(resc: list[dict]) -> dict[str, str]:\n",
    "    \"\"\"Get the paths to all CSVs that are part of the dataset\n",
    "\n",
    "    Args:\n",
    "        resc: Resource list\n",
    "    Returns:\n",
    "        Map of file name to URL\n",
    "    \"\"\"\n",
    "\n",
    "    return dict(\n",
    "        (Path(x['url'][7:]).name, x['url']) for x in resc if x['format'] == 'CSV'\n",
    "    )\n",
    "files = get_file_paths(description['result']['resources'])\n",
    "next(iter(files.items()))"
   ]
  },
  {
   "cell_type": "markdown",
   "id": "eb7498f0-60e5-4e0e-acc0-18ec14697e98",
   "metadata": {},
   "source": [
    "The battery extractor from `batdata` holds logic to perform the grouping"
   ]
  },
  {
   "cell_type": "code",
   "execution_count": 8,
   "id": "b91af25f-1a93-49b5-ba73-aa2fadaa1b88",
   "metadata": {},
   "outputs": [
    {
     "data": {
      "text/plain": [
       "['p462-18-raw.csv', 'p462-18-summary.csv']"
      ]
     },
     "execution_count": 8,
     "metadata": {},
     "output_type": "execute_result"
    }
   ],
   "source": [
    "next(extractor.group(files.keys()))"
   ]
  },
  {
   "cell_type": "markdown",
   "id": "5ba819b1-3b5c-4bc5-9a0d-aa8113807208",
   "metadata": {},
   "source": [
    "## Perform the Download and Parse Loop\n",
    "Collect metadata and files to parse together, then download and parse them, then save to HDF5"
   ]
  },
  {
   "cell_type": "code",
   "execution_count": 9,
   "id": "3b6df4ef-a703-4065-b15e-12cd6709392f",
   "metadata": {},
   "outputs": [],
   "source": [
    "hdf5_path = Path('processed')\n",
    "if hdf5_path.exists():\n",
    "    rmtree(hdf5_path)\n",
    "hdf5_path.mkdir(exist_ok=True)"
   ]
  },
  {
   "cell_type": "code",
   "execution_count": 10,
   "id": "a9a492a8-cb03-42a6-9535-f370f84e9802",
   "metadata": {},
   "outputs": [
    {
     "name": "stderr",
     "output_type": "stream",
     "text": [
      "/home/lward/miniconda3/envs/batcollect/lib/python3.10/site-packages/batdata/extractors/batterydata.py:174: DtypeWarning: Columns (25) have mixed types. Specify dtype option on import or set low_memory=False.\n",
      "  nrel_data = pd.read_csv(path)\n"
     ]
    }
   ],
   "source": [
    "for source in dataset_ids:\n",
    "    # Get the metadata and file list\n",
    "    description = requests.get(f'https://batterydata.energy.gov/api/3/action/package_show?id={source}', timeout=15).json()\n",
    "    base_metadata = generate_metadata(description['result'])\n",
    "    files = get_file_paths(description['result']['resources'])\n",
    "\n",
    "    # Parse each pair of files\n",
    "    for names in extractor.group(files.keys()):\n",
    "        with TemporaryDirectory(dir='.') as tmp:\n",
    "            # Start by downloading into a temporary directory\n",
    "            tmp = Path(tmp)\n",
    "            paths = []\n",
    "            for name in names:\n",
    "                url = files[name]\n",
    "                out_path = tmp / name\n",
    "                with out_path.open('wb') as fp:\n",
    "                    copyfileobj(requests.get(url, stream=True, timeout=15).raw, fp)\n",
    "                paths.append(out_path)\n",
    "\n",
    "            # Parse them into a battery metadata object\n",
    "            name = sorted(paths)[0].name[:-8]  # Get the name off the raw value\n",
    "            my_metadata = base_metadata.copy()\n",
    "            my_metadata.name = name\n",
    "            dataset = extractor.parse_to_dataframe(paths, metadata=my_metadata)\n",
    "\n",
    "            # Save it to HDF5 \n",
    "            path = hdf5_path / f'{name}.h5'\n",
    "            dataset.to_batdata_hdf(path, complevel=9)"
   ]
  },
  {
   "cell_type": "code",
   "execution_count": null,
   "id": "cbe43466-9d45-45d7-8d78-0ef44b808af0",
   "metadata": {},
   "outputs": [],
   "source": []
  }
 ],
 "metadata": {
  "kernelspec": {
   "display_name": "Python 3 (ipykernel)",
   "language": "python",
   "name": "python3"
  },
  "language_info": {
   "codemirror_mode": {
    "name": "ipython",
    "version": 3
   },
   "file_extension": ".py",
   "mimetype": "text/x-python",
   "name": "python",
   "nbconvert_exporter": "python",
   "pygments_lexer": "ipython3",
   "version": "3.10.13"
  }
 },
 "nbformat": 4,
 "nbformat_minor": 5
}
