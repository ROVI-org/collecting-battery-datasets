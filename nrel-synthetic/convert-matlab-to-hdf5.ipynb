{
 "cells": [
  {
   "cell_type": "markdown",
   "id": "c2bbae71-5b8a-45fe-86b7-ce600e744415",
   "metadata": {},
   "source": [
    "# Convert MATLAB Simulation Files to HDF5\n",
    "The original data are in MATLAB v73 format as large tabular formats. \n",
    "\n",
    "We use [Mat73](https://pypi.org/project/mat73/) to read the data, then save the data into a documented format."
   ]
  },
  {
   "cell_type": "code",
   "execution_count": 1,
   "id": "ee4e2991-20f6-4681-9b62-02a768fd29ee",
   "metadata": {},
   "outputs": [],
   "source": [
    "from batdata.schemas import BatteryMetadata\n",
    "from batdata.data import BatteryDataset\n",
    "from pathlib import Path\n",
    "from mat73 import loadmat\n",
    "from shutil import rmtree\n",
    "from h5py import File\n",
    "import pandas as pd\n",
    "import numpy as np\n",
    "import json"
   ]
  },
  {
   "cell_type": "markdown",
   "id": "d4619cd1-c152-485c-99fd-ed9d64986e55",
   "metadata": {},
   "source": [
    "Configuration"
   ]
  },
  {
   "cell_type": "code",
   "execution_count": 2,
   "id": "19300374-849d-4c50-85a7-6d3109e0743b",
   "metadata": {},
   "outputs": [],
   "source": [
    "known_columns = {  # Columns in data mapped to names in schema\n",
    "    't': 'cycle_start',\n",
    "    'dt': 'cycle_duration',\n",
    "    'Q': 'energy_discharge',\n",
    "    'q': 'capacity_discharge',\n",
    "    'TdegC': 'temperature_average'\n",
    "}"
   ]
  },
  {
   "cell_type": "markdown",
   "id": "a122ced8-f04b-4267-8ee9-db31d57a41e7",
   "metadata": {},
   "source": [
    "## Make the base metadata\n",
    "All batteries will use the same"
   ]
  },
  {
   "cell_type": "code",
   "execution_count": 3,
   "id": "2209a2bc-9e8f-4c4c-87c6-ba6dff629fe0",
   "metadata": {},
   "outputs": [],
   "source": [
    "metadata = BatteryMetadata(\n",
    "    source='gasper_synthetic',\n",
    ")"
   ]
  },
  {
   "cell_type": "markdown",
   "id": "e3638062-71ed-45d8-b550-5c9014e31410",
   "metadata": {},
   "source": [
    "TODO: Make space in the schema for describing the code versions, inputs, etc"
   ]
  },
  {
   "cell_type": "markdown",
   "id": "2c3b8ead-d50a-4452-afb7-03b3d96aaad4",
   "metadata": {},
   "source": [
    "Load in the descriptions of the variables. (Parsing from the README)"
   ]
  },
  {
   "cell_type": "code",
   "execution_count": 4,
   "id": "0c68d1c2-8c06-4987-8e6d-1a93ea6d8174",
   "metadata": {},
   "outputs": [],
   "source": [
    "new_columns = {}\n",
    "with open('README.md') as fp:\n",
    "    for line in fp:\n",
    "        if line.startswith(\"-\"):\n",
    "            line = line.strip()[2:]  # Strip off the \"- \"\n",
    "            name, desc = line.split(\":\", 1)\n",
    "            if name not in known_columns:\n",
    "                new_columns[name] = desc.strip()"
   ]
  },
  {
   "cell_type": "code",
   "execution_count": 5,
   "id": "625a58ff-38ff-4fac-99c7-adfc33faab1c",
   "metadata": {},
   "outputs": [],
   "source": [
    "metadata.cycle_stats_columns = new_columns"
   ]
  },
  {
   "cell_type": "markdown",
   "id": "ebc1ecfc-5658-42e4-8d06-c5454790453c",
   "metadata": {},
   "source": [
    "## Iterate over Each File\n",
    "Write out each row of the \"constant\" and \"varying\" to a different HDF5 file"
   ]
  },
  {
   "cell_type": "code",
   "execution_count": 6,
   "id": "9c1f3d49-fc1d-4020-89d9-8c102c1760a5",
   "metadata": {},
   "outputs": [],
   "source": [
    "out_path = Path('processed')\n",
    "if out_path.exists():\n",
    "    rmtree(out_path)\n",
    "out_path.mkdir(exist_ok=True)"
   ]
  },
  {
   "cell_type": "code",
   "execution_count": 7,
   "id": "6794f9b0-bf7c-4476-a519-8318a8619b5f",
   "metadata": {},
   "outputs": [],
   "source": [
    "for name in ['constant', 'varying']:\n",
    "    # Start by loading the data\n",
    "    all_data = loadmat(f'raw/ROVI - {name} inputs.mat')['simulations']\n",
    "\n",
    "    # Get the column names for inputs and outputs\n",
    "    input_cols = all_data.pop('Input_vars')[0]\n",
    "    output_cols = all_data.pop('Output_vars')[0]\n",
    "\n",
    "    # Iterate over each row, which is a different input parameter set\n",
    "    for i, (inputs, outputs) in enumerate(zip(all_data['Inputs'], all_data['Outputs'])):\n",
    "        inputs = inputs.astype(np.float32)\n",
    "        outputs = np.array(outputs, dtype=np.float32)  # 4D: n_samples x 1 x num_days x num_cols\n",
    "\n",
    "        # Iterate over each instance of this parameter set\n",
    "        with pd.HDFStore(out_path / f'{name}-{i}.h5', complevel=9, complib='zlib') as fo:\n",
    "            for j, output in enumerate(outputs[:, 0, :, :]):\n",
    "                data = np.concatenate([inputs, output], axis=1)\n",
    "    \n",
    "                # Convert to dataframe then rename columns that are known to batdata\n",
    "                data = pd.DataFrame(data, columns=input_cols + output_cols)\n",
    "                data['cycle_number'] = np.arange(len(data))\n",
    "    \n",
    "                # Convert columns known to batdata\n",
    "                data.rename(columns=known_columns, inplace=True)\n",
    "                data[['cycle_duration', 'cycle_start']] *= 3600 * 24  # Convert to seconds\n",
    "    \n",
    "                # Assemble into a battery dataset\n",
    "                bd = BatteryDataset(cycle_stats=data, metadata=metadata)\n",
    "                bd.validate()\n",
    "    \n",
    "                # Save to a group with our specific data\n",
    "                bd.to_batdata_hdf(fo, prefix=f'run_{j}', append=True)\n",
    "\n",
    "    del all_data  # Clear old data before getting new"
   ]
  },
  {
   "cell_type": "code",
   "execution_count": null,
   "id": "2dd8edc8-4c2c-4d50-adf2-e4c0df1fbd48",
   "metadata": {},
   "outputs": [],
   "source": []
  }
 ],
 "metadata": {
  "kernelspec": {
   "display_name": "Python 3 (ipykernel)",
   "language": "python",
   "name": "python3"
  },
  "language_info": {
   "codemirror_mode": {
    "name": "ipython",
    "version": 3
   },
   "file_extension": ".py",
   "mimetype": "text/x-python",
   "name": "python",
   "nbconvert_exporter": "python",
   "pygments_lexer": "ipython3",
   "version": "3.10.13"
  }
 },
 "nbformat": 4,
 "nbformat_minor": 5
}
