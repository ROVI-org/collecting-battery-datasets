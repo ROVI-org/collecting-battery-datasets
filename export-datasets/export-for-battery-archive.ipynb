{
 "cells": [
  {
   "cell_type": "markdown",
   "id": "99e08733-338c-4704-ae60-9df734590eb8",
   "metadata": {},
   "source": [
    "# Demonstrate Output to Battery Archive Format\n",
    "This notebook loads an HDF5 file then converts it to a format usable by battery archive"
   ]
  },
  {
   "cell_type": "code",
   "execution_count": 22,
   "id": "75639858-8726-4fb9-ba62-d3e3fa22703f",
   "metadata": {},
   "outputs": [],
   "source": [
    "from batdata.exporters.ba import BatteryArchiveExporter\n",
    "from batdata.data import BatteryDataset\n",
    "from pathlib import Path\n",
    "import shutil"
   ]
  },
  {
   "cell_type": "markdown",
   "id": "c75dad9b-579b-4fd8-89a7-0622c70ab946",
   "metadata": {},
   "source": [
    "Configuration"
   ]
  },
  {
   "cell_type": "code",
   "execution_count": 23,
   "id": "24ff7d46-34d3-45d5-ba39-aec723acd1f2",
   "metadata": {},
   "outputs": [],
   "source": [
    "to_export = Path('../nrel-synthetic/processed/varying-0.h5')"
   ]
  },
  {
   "cell_type": "markdown",
   "id": "fb7422d7-5285-4a05-88d9-7e3b21eccdaf",
   "metadata": {},
   "source": [
    "## Load the Data, then Resave\n",
    "Convert it to the CSV formats that are close the the BatteryArchive's SQL schema"
   ]
  },
  {
   "cell_type": "code",
   "execution_count": 24,
   "id": "da5f86b7-8a10-4a36-9058-84c3985fb326",
   "metadata": {},
   "outputs": [
    {
     "data": {
      "text/plain": [
       "WindowsPath('battery-archive/nrel-synthetic')"
      ]
     },
     "execution_count": 24,
     "metadata": {},
     "output_type": "execute_result"
    }
   ],
   "source": [
    "out_path = Path('battery-archive') / to_export.parents[1].name\n",
    "out_path"
   ]
  },
  {
   "cell_type": "markdown",
   "id": "03bf1e94-dd3b-4d2b-8ce5-2e25dba14457",
   "metadata": {},
   "source": [
    "Clear then make the directory"
   ]
  },
  {
   "cell_type": "code",
   "execution_count": 25,
   "id": "c1a41682-1967-4a37-95d9-8b4cb283a0c4",
   "metadata": {},
   "outputs": [],
   "source": [
    "if out_path.exists():\n",
    "    shutil.rmtree(out_path)\n",
    "out_path.mkdir(parents=True)"
   ]
  },
  {
   "cell_type": "markdown",
   "id": "206f3724-2258-4da1-bcd8-4f345e62e5a4",
   "metadata": {},
   "source": [
    "Read then write to disk"
   ]
  },
  {
   "cell_type": "code",
   "execution_count": 26,
   "id": "69e4402c-eb17-4278-9311-2c3f73243942",
   "metadata": {},
   "outputs": [],
   "source": [
    "data = BatteryDataset.from_batdata_hdf(to_export, prefix=0)"
   ]
  },
  {
   "cell_type": "code",
   "execution_count": 27,
   "id": "961a7544-8371-4608-90fa-ba90f089fcc8",
   "metadata": {},
   "outputs": [],
   "source": [
    "exporter = BatteryArchiveExporter()"
   ]
  },
  {
   "cell_type": "code",
   "execution_count": 28,
   "id": "a121de31-e972-4d31-860b-69331733b492",
   "metadata": {},
   "outputs": [],
   "source": [
    "exporter.export(data, out_path)"
   ]
  },
  {
   "cell_type": "code",
   "execution_count": null,
   "id": "d645abdc-2faf-466d-a0ef-124cb1110805",
   "metadata": {},
   "outputs": [],
   "source": []
  }
 ],
 "metadata": {
  "kernelspec": {
   "display_name": "Python 3 (ipykernel)",
   "language": "python",
   "name": "python3"
  },
  "language_info": {
   "codemirror_mode": {
    "name": "ipython",
    "version": 3
   },
   "file_extension": ".py",
   "mimetype": "text/x-python",
   "name": "python",
   "nbconvert_exporter": "python",
   "pygments_lexer": "ipython3",
   "version": "3.10.14"
  }
 },
 "nbformat": 4,
 "nbformat_minor": 5
}
