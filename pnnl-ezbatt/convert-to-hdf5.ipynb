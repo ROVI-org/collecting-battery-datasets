{
 "cells": [
  {
   "cell_type": "markdown",
   "id": "b3a2a2c1-f782-4c2a-ab78-b1a2fd5a8767",
   "metadata": {},
   "source": [
    "# Convert to HDF5\n",
    "Convert the COMSOL simulation data of flow cells from pickled files into a list of HDF5s, one per experiment."
   ]
  },
  {
   "cell_type": "code",
   "execution_count": 1,
   "id": "2284d79e-2c1a-45fd-b833-cae1da879ffc",
   "metadata": {},
   "outputs": [],
   "source": [
    "%matplotlib inline\n",
    "from matplotlib import pyplot as plt\n",
    "from batdata.postprocess.cycle_stats import CycleTimes\n",
    "from batdata.schemas import BatteryMetadata, BatteryDescription, ModelMetadata\n",
    "from batdata.data import BatteryDataset\n",
    "from tarfile import TarFile\n",
    "from shutil import rmtree\n",
    "from pathlib import Path\n",
    "from tqdm import tqdm\n",
    "import pickle as pkl\n",
    "import pandas as pd\n",
    "import numpy as np\n",
    "import yaml"
   ]
  },
  {
   "cell_type": "markdown",
   "id": "3cad5de9-7a1c-4774-abe3-c825d97a2e3f",
   "metadata": {},
   "source": [
    "Configuration"
   ]
  },
  {
   "cell_type": "code",
   "execution_count": 2,
   "id": "bb66b789-3d4d-46a8-b7a6-946d366b1aac",
   "metadata": {},
   "outputs": [],
   "source": [
    "with open('parameters.yml') as fp:\n",
    "    parameters = yaml.safe_load(fp)\n",
    "cell_active_area = 780 / 1e4 # In m^2"
   ]
  },
  {
   "cell_type": "markdown",
   "id": "1a8cd89a-1848-4491-8a9f-ced53b6181e7",
   "metadata": {},
   "source": [
    "## Explain the Data Format\n",
    "\n",
    "The simulation results form each data are stored in a pickled dictionary that contains two keys:\n",
    "- `degradation_parameters`: A listing of the parmaeters of the model and how they change per cycle\n",
    "- `res_multi`: The data for the charge and discharge"
   ]
  },
  {
   "cell_type": "markdown",
   "id": "63ce35bc-9c82-4f60-977a-130f5eeff46e",
   "metadata": {},
   "source": [
    "Read an example file"
   ]
  },
  {
   "cell_type": "code",
   "execution_count": 3,
   "id": "bddb52b1-a87d-4484-bace-628e797b76df",
   "metadata": {},
   "outputs": [
    {
     "name": "stdout",
     "output_type": "stream",
     "text": [
      "CPU times: total: 29 s\n",
      "Wall time: 1min 11s\n"
     ]
    },
    {
     "data": {
      "text/plain": [
       "dict_keys(['Case', 'degradation_parameters', 'res_multi'])"
      ]
     },
     "execution_count": 3,
     "metadata": {},
     "output_type": "execute_result"
    }
   ],
   "source": [
    "%%time\n",
    "with TarFile.gzopen('raw/data.tar.gz') as t:\n",
    "    with t.extractfile('data/results_Case_4672.pkl') as fp:\n",
    "        case_data = pkl.load(fp)\n",
    "case_data.keys()"
   ]
  },
  {
   "cell_type": "markdown",
   "id": "e4774c51-b485-470c-8470-339e89413f75",
   "metadata": {},
   "source": [
    "The degredatation parameters contains a listing of function describing how the parameters have decayed over time:\n",
    "\n",
    "- `Type`: Whether the parameter is changing or not\n",
    "- `Mode`: Which function defines degradation (Constant, Linear, Power Law, Tanh)\n",
    "- `coef`: Coefficients describing the degreadation\n",
    "- `PV`: Values of the parameter for each cycle\n",
    "- `PR`: Range of the parameters between first and last cycle"
   ]
  },
  {
   "cell_type": "code",
   "execution_count": 4,
   "id": "31ba7c88-deef-464f-a59e-055b9a87cc59",
   "metadata": {},
   "outputs": [
    {
     "name": "stdout",
     "output_type": "stream",
     "text": [
      "Loaded information for 12 parameters\n"
     ]
    }
   ],
   "source": [
    "case_params = case_data['degradation_parameters']\n",
    "print(f'Loaded information for {len(case_params)} parameters')"
   ]
  },
  {
   "cell_type": "code",
   "execution_count": 5,
   "id": "28fa6744-8be8-4ba0-ad7e-7f1cb1a1d582",
   "metadata": {},
   "outputs": [
    {
     "data": {
      "text/plain": [
       "dict_keys(['Type', 'Mode', 'coef', 'PV', 'PR'])"
      ]
     },
     "execution_count": 5,
     "metadata": {},
     "output_type": "execute_result"
    }
   ],
   "source": [
    "case_params[0].keys()"
   ]
  },
  {
   "cell_type": "markdown",
   "id": "60e310ad-5aef-4cd3-8d6d-6d6ab3553359",
   "metadata": {},
   "source": [
    "The output data contains a separate entry for each cycle.\n",
    "\n",
    "Each entry contains an array of the elapsed time (hrs), state of charge, and voltage (V) in both charge and discharge.\n",
    "\n",
    "The current is defined by the \"Applied Current\" parameter and the cell active area (configured above)"
   ]
  },
  {
   "cell_type": "code",
   "execution_count": 6,
   "id": "1d231c7b-4350-4231-870f-2eb94be8a902",
   "metadata": {},
   "outputs": [
    {
     "name": "stdout",
     "output_type": "stream",
     "text": [
      "Loaded results for 501 cycles\n"
     ]
    }
   ],
   "source": [
    "case_results = case_data['res_multi']\n",
    "print(f'Loaded results for {len(case_results)} cycles')"
   ]
  },
  {
   "cell_type": "code",
   "execution_count": 7,
   "id": "1b668245-0b03-46b9-9700-9644be00a161",
   "metadata": {},
   "outputs": [
    {
     "data": {
      "text/plain": [
       "dict_keys(['Charge', 'Discharge'])"
      ]
     },
     "execution_count": 7,
     "metadata": {},
     "output_type": "execute_result"
    }
   ],
   "source": [
    "case_results[1].keys()"
   ]
  },
  {
   "cell_type": "code",
   "execution_count": 8,
   "id": "23a9050c-3891-4189-96cb-ab109cfc1182",
   "metadata": {},
   "outputs": [
    {
     "data": {
      "text/plain": [
       "(98, 3)"
      ]
     },
     "execution_count": 8,
     "metadata": {},
     "output_type": "execute_result"
    }
   ],
   "source": [
    "case_results[1]['Charge'].shape"
   ]
  },
  {
   "cell_type": "markdown",
   "id": "e6b73799-3d14-4d59-874a-ade42735cf2d",
   "metadata": {},
   "source": [
    "### Functions to Extract Data and Metadata\n",
    "So that we can easily process a new file"
   ]
  },
  {
   "cell_type": "markdown",
   "id": "acbdfb08-013e-4124-a5ef-d6261ee825b1",
   "metadata": {},
   "source": [
    "Make a function which produces the \"raw data\" signal over time"
   ]
  },
  {
   "cell_type": "code",
   "execution_count": 9,
   "id": "67657ce1-cdf5-4bfb-80d5-008fedc3211f",
   "metadata": {},
   "outputs": [],
   "source": [
    "def make_raw_data(case_data: dict) -> pd.DataFrame:\n",
    "    \"\"\"Store the current, voltage and SOC as a function of time\n",
    "\n",
    "    Args:\n",
    "        case_data: Data for this particular case\n",
    "    Returns:\n",
    "        Dataframe in \"raw data format\"\n",
    "    \"\"\"\n",
    "\n",
    "    # Compile each cycle separately\n",
    "    all_cycles = []\n",
    "    cycle_start = 0  # Start time for a cycle in seconds\n",
    "    for cyc_id, results in enumerate(case_data['res_multi']):\n",
    "        cycle = []\n",
    "        for step_id, stage in enumerate(['Charge', 'Discharge']):  # TODO (wardlt): Should we assume charge first?\n",
    "            subcycle = pd.DataFrame(results[stage], columns=['test_time', 'soc', 'voltage'])\n",
    "\n",
    "            # Convert the time to seconds and move the start time forward\n",
    "            subcycle['test_time'] = subcycle['test_time'] * 3600 + cycle_start\n",
    "            cycle_start = subcycle['test_time'].iloc[-1]\n",
    "\n",
    "            # Add the current based on the parameter values\n",
    "            current_param = case_data['degradation_parameters'][10]\n",
    "            assert parameters[10]['name'] == 'Applied current'\n",
    "            subcycle['current'] = current_param['PV'][cyc_id] * cell_active_area\n",
    "            if stage == 'Charge': \n",
    "                subcycle['current'] *= -1\n",
    "\n",
    "            # Mark the step index and whether the battery is charging or discharging\n",
    "            subcycle['step_index'] = step_id\n",
    "            subcycle['state'] = stage.lower()[:-1] + 'ing'\n",
    "            cycle.append(subcycle)\n",
    "\n",
    "        # Append to the total list\n",
    "        cycle = pd.concat(cycle, ignore_index=True)\n",
    "        cycle['cycle_number'] = cyc_id\n",
    "        all_cycles.append(cycle)\n",
    "\n",
    "    return pd.concat(all_cycles, ignore_index=True)\n",
    "raw_data = make_raw_data(case_data)"
   ]
  },
  {
   "cell_type": "code",
   "execution_count": 10,
   "id": "fb13039d-0a4a-47e6-bdb3-65451ecc4ec9",
   "metadata": {},
   "outputs": [
    {
     "data": {
      "text/plain": [
       "Text(0.5, 0, 'Time (hr)')"
      ]
     },
     "execution_count": 10,
     "metadata": {},
     "output_type": "execute_result"
    },
    {
     "data": {
      "image/png": "[encoded data removed]",
      "text/plain": [
       "<Figure size 350x320 with 3 Axes>"
      ]
     },
     "metadata": {},
     "output_type": "display_data"
    }
   ],
   "source": [
    "fig, axs = plt.subplots(3, 1, figsize=(3.5, 3.2), sharex=True)\n",
    "\n",
    "for ax, c, l in zip(axs, ['current', 'voltage', 'soc'], ['$I$ (A)', '$V$ (V)', 'SOC']):\n",
    "    ax.plot(raw_data['test_time'] / 3600, raw_data[c])\n",
    "    ax.set_ylabel(l)\n",
    "\n",
    "axs[0].set_xlim(0., 12.)\n",
    "axs[-1].set_xlabel('Time (hr)')"
   ]
  },
  {
   "cell_type": "markdown",
   "id": "ddfac14b-d82a-45bd-ae96-7742d997839c",
   "metadata": {},
   "source": [
    "Make a function which generates cycle-level summaries"
   ]
  },
  {
   "cell_type": "code",
   "execution_count": 11,
   "id": "461d7340-3e9f-4dfe-b90a-4d9a68e54d84",
   "metadata": {},
   "outputs": [],
   "source": [
    "def make_cycle_summary(case_data: dict, raw_data: pd.DataFrame) -> pd.DataFrame:\n",
    "    \"\"\"Summarize the available data about each case.\n",
    "\n",
    "    Store the parameters for the datasets\n",
    "\n",
    "    Args:\n",
    "        case_data: Data for this particular case\n",
    "        raw_data: Raw data for each of the cycles\n",
    "    Returns:\n",
    "        Dataframe in \"raw data format\"\n",
    "    \"\"\"\n",
    "\n",
    "    # Initialize\n",
    "    cycle_count = raw_data['cycle_number'].max() + 1\n",
    "    cycle_stats = pd.DataFrame({'cycle_number': np.arange(cycle_count)})\n",
    "\n",
    "    # Store the values for each parameter for each cycle\n",
    "    for i, info in enumerate(parameters):\n",
    "        name = info['name'].replace(\" \", \"_\").lower()\n",
    "        cycle_stats[name] = case_data['degradation_parameters'][i]['PV']\n",
    "\n",
    "    return cycle_stats\n",
    "cycle_stats = make_cycle_summary(case_data, raw_data)"
   ]
  },
  {
   "cell_type": "code",
   "execution_count": 12,
   "id": "d431ceb6-63ba-48ec-8be0-18f6772dea84",
   "metadata": {},
   "outputs": [
    {
     "data": {
      "text/plain": [
       "Text(0.5, 0, 'Cycle')"
      ]
     },
     "execution_count": 12,
     "metadata": {},
     "output_type": "execute_result"
    },
    {
     "data": {
      "image/png": "[encoded data removed]",
      "text/plain": [
       "<Figure size 350x250 with 2 Axes>"
      ]
     },
     "metadata": {},
     "output_type": "display_data"
    }
   ],
   "source": [
    "fig, axs = plt.subplots(2, figsize=(3.5, 2.5), sharex=True)\n",
    "\n",
    "for ax, c, l in zip(axs, ['reaction_transfer_coefficient', 'reaction_rate_constant'], ['$\\\\alpha_n$', '$k_n$ (m/s)']):\n",
    "    ax.plot(cycle_stats['cycle_number'], cycle_stats[c])\n",
    "    ax.set_ylabel(l)\n",
    "\n",
    "axs[-1].set_xlabel('Cycle')"
   ]
  },
  {
   "cell_type": "markdown",
   "id": "60eb94da-f0e1-4afc-876c-0f6bff64f2f7",
   "metadata": {},
   "source": [
    "Make the metadata for the dataset, including the degredation models for the parameters"
   ]
  },
  {
   "cell_type": "code",
   "execution_count": 13,
   "id": "222d06c6-ab0f-442c-941e-631ca37435d6",
   "metadata": {},
   "outputs": [
    {
     "data": {
      "text/plain": [
       "{'name': 'ezbatt_4673',\n",
       " 'modeling': {'name': 'EZBattery',\n",
       "  'version': '',\n",
       "  'type': <ModelTypes.physics: 'physics'>,\n",
       "  'references': [Url('https://iopscience.iop.org/article/10.1149/1945-7111/acadad'),\n",
       "   Url('https://doi.org/10.1016/j.jpowsour.2020.228817'),\n",
       "   Url('https://doi.org/10.1016/j.jpowsour.2021.230192'),\n",
       "   Url('https://doi.org/10.1016/j.jpowsour.2023.233210')],\n",
       "  'models': ['BatteryContinuumModel'],\n",
       "  'simulation_type': 'StandaloneModelSimulation',\n",
       "  'parameter_summary': [{'name': 'Reaction transfer coefficient',\n",
       "    'description': 'A measure of the symmetry of the two directions of the reaction.',\n",
       "    'symbol': '\\\\alpha_n',\n",
       "    'units': 'unitless',\n",
       "    'degradation_mode': 'Linear',\n",
       "    'degradation_coeff': [8.227922946912769e-05, 0.0],\n",
       "    'parameter_range': [0.559553, 0.5365332051564305]},\n",
       "   {'name': 'Electrode specific area',\n",
       "    'description': 'The ratio between the total electrode microstructure surface area and the total volume of the electrode.',\n",
       "    'symbol': 'a',\n",
       "    'units': '1/m',\n",
       "    'degradation_mode': 'Power Law',\n",
       "    'degradation_coeff': [1.1985109855932866e-06, 0.0],\n",
       "    'parameter_range': [52952.5, 37086.461758842874]},\n",
       "   {'name': 'Membrane conductivity',\n",
       "    'description': 'The ion conductivity of membrane between positive and negative sides.',\n",
       "    'symbol': '\\\\sigma_m',\n",
       "    'units': 'S/m',\n",
       "    'degradation_mode': 'Tanh',\n",
       "    'degradation_coeff': [8.796508877124683, 0.0],\n",
       "    'parameter_range': [1.65854, 1.6407158640950101]},\n",
       "   {'name': 'Reaction rate constant',\n",
       "    'description': 'The reaction rate constant for calculation of exchange current density.',\n",
       "    'symbol': 'k_n',\n",
       "    'units': 'm/s',\n",
       "    'degradation_mode': 'Power Law',\n",
       "    'degradation_coeff': [1.0266978686482173e-06, 0.0],\n",
       "    'parameter_range': [9.22e-05, 6.853461412765859e-05]},\n",
       "   {'name': 'Mass transfer coefficient',\n",
       "    'description': 'The overall transport speed of active species from center of pore to the wall of pore.',\n",
       "    'symbol': 'k_m',\n",
       "    'units': 'm/s',\n",
       "    'degradation_mode': 'Linear',\n",
       "    'degradation_coeff': [0.0002873029840246337, 0.0],\n",
       "    'parameter_range': [3.43e-05, 2.9372753823977533e-05]},\n",
       "   {'name': 'Concentration',\n",
       "    'description': 'The initial concentration of active species in negative side tank.',\n",
       "    'symbol': 'C',\n",
       "    'units': 'mol/m^3',\n",
       "    'degradation_mode': 'Power Law',\n",
       "    'degradation_coeff': [1.8799531127015846e-07, 0.0],\n",
       "    'parameter_range': [1479.58, 1410.0414743377246]},\n",
       "   {'name': 'Diffusivity',\n",
       "    'description': 'The diffusivity of active species in negative side electrode.',\n",
       "    'symbol': 'D_n',\n",
       "    'units': 'm^2/s',\n",
       "    'degradation_mode': 'Constant',\n",
       "    'degradation_coeff': [],\n",
       "    'parameter_range': [8.64e-10, 7.910862013379557e-10]},\n",
       "   {'name': 'Viscosity',\n",
       "    'description': 'The viscosity of the electrolyte',\n",
       "    'symbol': '\\\\mu_n',\n",
       "    'units': 'Pa-s',\n",
       "    'degradation_mode': 'Constant',\n",
       "    'degradation_coeff': [],\n",
       "    'parameter_range': [0.00563447, 0.005492263931779816]},\n",
       "   {'name': 'Standard potential',\n",
       "    'description': 'The standard potential of negative side reaction.',\n",
       "    'symbol': 'E_n',\n",
       "    'units': 'V',\n",
       "    'degradation_mode': 'Constant',\n",
       "    'degradation_coeff': [],\n",
       "    'parameter_range': [-0.188041, -0.17142519993513575]},\n",
       "   {'name': 'Electrolyte ionic conductivity',\n",
       "    'description': 'The ionic conductivity in negative side electrolyte.',\n",
       "    'symbol': 'k_{eff}',\n",
       "    'units': 'S/m',\n",
       "    'degradation_mode': 'Constant',\n",
       "    'degradation_coeff': [],\n",
       "    'parameter_range': [77.1265, 62.749912207046464]},\n",
       "   {'name': 'Applied current',\n",
       "    'description': 'The current density applied on the cell.',\n",
       "    'symbol': 'i_{app}',\n",
       "    'units': 'A/m^2',\n",
       "    'degradation_mode': 'Constant',\n",
       "    'degradation_coeff': [],\n",
       "    'parameter_range': [1600.0, 1440.5902753729372]},\n",
       "   {'name': 'Pump rate',\n",
       "    'description': 'The electrolyte flow rate through electrode.',\n",
       "    'symbol': 'Q',\n",
       "    'units': 'L/min',\n",
       "    'degradation_mode': 'Constant',\n",
       "    'degradation_coeff': [],\n",
       "    'parameter_range': [1.6, 1.5502786047615917]}]},\n",
       " 'source': 'bao_ezbatt',\n",
       " 'raw_data_columns': {'soc': 'Fractional state of charge'},\n",
       " 'cycle_stats_columns': {'reaction_transfer_coefficient': 'A measure of the symmetry of the two directions of the reaction. (Units: unitless)',\n",
       "  'electrode_specific_area': 'The ratio between the total electrode microstructure surface area and the total volume of the electrode. (Units: 1/m)',\n",
       "  'membrane_conductivity': 'The ion conductivity of membrane between positive and negative sides. (Units: S/m)',\n",
       "  'reaction_rate_constant': 'The reaction rate constant for calculation of exchange current density. (Units: m/s)',\n",
       "  'mass_transfer_coefficient': 'The overall transport speed of active species from center of pore to the wall of pore. (Units: m/s)',\n",
       "  'concentration': 'The initial concentration of active species in negative side tank. (Units: mol/m^3)',\n",
       "  'diffusivity': 'The diffusivity of active species in negative side electrode. (Units: m^2/s)',\n",
       "  'viscosity': 'The viscosity of the electrolyte (Units: Pa-s)',\n",
       "  'standard_potential': 'The standard potential of negative side reaction. (Units: V)',\n",
       "  'electrolyte_ionic_conductivity': 'The ionic conductivity in negative side electrolyte. (Units: S/m)',\n",
       "  'applied_current': 'The current density applied on the cell. (Units: A/m^2)',\n",
       "  'pump_rate': 'The electrolyte flow rate through electrode. (Units: L/min)'}}"
      ]
     },
     "execution_count": 13,
     "metadata": {},
     "output_type": "execute_result"
    }
   ],
   "source": [
    "def make_metadata(case_data: dict) -> BatteryMetadata:\n",
    "    \"\"\"Summarize the source of the data, including the degredation model\n",
    "\n",
    "    Args:\n",
    "        case_data: Description of this dataset\n",
    "    Returns:\n",
    "        Metadata ready for use in HDF5\n",
    "    \"\"\"\n",
    "    # Convert the degredation style into a summary\n",
    "    parameter_summary = []\n",
    "    for i, info in enumerate(parameters):\n",
    "        param = case_data['degradation_parameters'][i]\n",
    "        parameter_summary.append({\n",
    "            **info,\n",
    "            'degradation_mode': ['Constant', 'Linear', 'Power Law', 'Tanh'][param['Mode']],\n",
    "            'degradation_coeff': list(param['coef']),\n",
    "            'parameter_range': list(param['PR']),  # List can be converted to JSON, ndarray cannot\n",
    "        })\n",
    "\n",
    "    # Load the cycle descriptions\n",
    "    \n",
    "    return BatteryMetadata(\n",
    "        name=f'ezbatt_{case_data[\"Case\"]}',\n",
    "        source='bao_ezbatt',\n",
    "        # battery=BatteryDescription(),  # TBD: Need to include flow cell terms\n",
    "        modeling=ModelMetadata(\n",
    "            name='EZBattery',\n",
    "            version='',\n",
    "            type='physics',\n",
    "            models=['BatteryContinuumModel'],\n",
    "            simulation_type='StandaloneModelSimulation',\n",
    "            references=[\n",
    "                'https://iopscience.iop.org/article/10.1149/1945-7111/acadad',\n",
    "                'https://doi.org/10.1016/j.jpowsour.2020.228817',\n",
    "                'https://doi.org/10.1016/j.jpowsour.2021.230192',\n",
    "                'https://doi.org/10.1016/j.jpowsour.2023.233210',\n",
    "            ],\n",
    "            parameter_summary=parameter_summary\n",
    "        ),\n",
    "        raw_data_columns={'soc': 'Fractional state of charge'},\n",
    "        cycle_stats_columns=dict(\n",
    "            (p['name'].replace(\" \", \"_\").lower(), f\"{p['description']} (Units: {p['units']})\")\n",
    "            for p in parameters\n",
    "        )\n",
    "    )\n",
    "make_metadata(case_data).model_dump(exclude_unset=True)"
   ]
  },
  {
   "cell_type": "markdown",
   "id": "d0e08c9e-400f-4c65-9d36-95b60fe013ff",
   "metadata": {},
   "source": [
    "## Convert All Cases\n",
    "Read all cases from the dictionary then save them as HDF5"
   ]
  },
  {
   "cell_type": "code",
   "execution_count": 14,
   "id": "d77e109b-e9ac-4eed-a0e7-a6c49f159e6d",
   "metadata": {},
   "outputs": [],
   "source": [
    "out_dir = Path('processed')\n",
    "if out_dir.exists():\n",
    "    rmtree(out_dir)\n",
    "out_dir.mkdir()"
   ]
  },
  {
   "cell_type": "code",
   "execution_count": 15,
   "id": "3f5c109e-3493-4713-a36e-e42fb355c00c",
   "metadata": {},
   "outputs": [
    {
     "name": "stderr",
     "output_type": "stream",
     "text": [
      "100%|████████████████████████████████████████████████████████████████████████████████████████████████████████████████████████████████████████████████████████████████████████████████████████████████████████████████████████████████████████████| 8203/8203 [2:26:20<00:00,  1.07s/it]\n"
     ]
    }
   ],
   "source": [
    "with TarFile.gzopen('raw/data.tar.gz') as tar:\n",
    "    # Loop over all PKL files\n",
    "    for file in tqdm(tar.getmembers()):\n",
    "        if not file.name.endswith('.pkl'):\n",
    "            continue\n",
    "\n",
    "        # Read it\n",
    "        with tar.extractfile(file) as fp:\n",
    "            case_data = pkl.load(fp)\n",
    "\n",
    "        # Parse the data and assemble into an object\n",
    "        raw_data = make_raw_data(case_data)\n",
    "        cycle_stats = make_cycle_summary(case_data, raw_data)\n",
    "        metadata = make_metadata(case_data)\n",
    "        data = BatteryDataset(\n",
    "            raw_data=raw_data, cycle_stats=cycle_stats, metadata=metadata\n",
    "        )\n",
    "        assert len(data.validate()) == 0  # No warnings about unlabeled columns\n",
    "\n",
    "        # Compute the cycle times\n",
    "        CycleTimes().compute_features(data)\n",
    "\n",
    "        # Save it to HDF5 \n",
    "        path = out_dir / f'{metadata.name}.h5'\n",
    "        data.to_batdata_hdf(path, complevel=9)"
   ]
  },
  {
   "cell_type": "code",
   "execution_count": null,
   "id": "ea1cc5b1-0d8e-4ae0-a7d7-8787ecda29c9",
   "metadata": {},
   "outputs": [],
   "source": []
  }
 ],
 "metadata": {
  "kernelspec": {
   "display_name": "Python 3 (ipykernel)",
   "language": "python",
   "name": "python3"
  },
  "language_info": {
   "codemirror_mode": {
    "name": "ipython",
    "version": 3
   },
   "file_extension": ".py",
   "mimetype": "text/x-python",
   "name": "python",
   "nbconvert_exporter": "python",
   "pygments_lexer": "ipython3",
   "version": "3.10.14"
  }
 },
 "nbformat": 4,
 "nbformat_minor": 5
}
