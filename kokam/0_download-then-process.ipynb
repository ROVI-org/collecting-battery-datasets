{
 "cells": [
  {
   "cell_type": "markdown",
   "id": "6b58bb72-3a57-4efd-a6cd-d523719cd165",
   "metadata": {},
   "source": [
    "# Convert Kokam Data from BatteryData.Energy.Gov\n",
    "The XCEL dataset is housed on BatteryData.Energy.Gov, which is backed by [CKAN's REST API](https://docs.ckan.org/en/2.9/api/#example-importing-datasets-with-the-ckan-api). This notebook uses that API to download the data then convert it to HDF5 using batdata"
   ]
  },
  {
   "cell_type": "code",
   "execution_count": 2,
   "id": "74ef32b3-e0ad-44e9-bb3c-0218112cc40e",
   "metadata": {},
   "outputs": [],
   "source": [
    "from battdat.io.batterydata import BDReader, generate_metadata\n",
    "from battdat.schemas import BatteryMetadata, BatteryDescription\n",
    "from tempfile import TemporaryDirectory\n",
    "from shutil import copyfileobj, rmtree\n",
    "from pathlib import Path\n",
    "import requests"
   ]
  },
  {
   "cell_type": "markdown",
   "id": "5169a24d-2ea9-46a7-84d3-4a7ba290aadc",
   "metadata": {},
   "source": [
    "Configuration"
   ]
  },
  {
   "cell_type": "code",
   "execution_count": 4,
   "id": "5738daac-8154-4d92-b831-6adafd1c3997",
   "metadata": {},
   "outputs": [],
   "source": [
    "dataset_ids = ['kokam-nmc-gr-75ah-accelerated-aging']\n",
    "reader = BDReader(store_all=True)"
   ]
  },
  {
   "cell_type": "markdown",
   "id": "8af91ef1-3bfc-406d-ae0a-088f2e076894",
   "metadata": {},
   "source": [
    "## Grouping Data by Cell\n",
    "Each cell is in two files. We must group them together before parsing"
   ]
  },
  {
   "cell_type": "markdown",
   "id": "4250dc08-1d35-4c5d-afeb-67280030293a",
   "metadata": {},
   "source": [
    "Each file is described under the `resources` key of the results"
   ]
  },
  {
   "cell_type": "code",
   "execution_count": 5,
   "id": "8014dfad-8331-4b79-b0c6-5a37207c387c",
   "metadata": {},
   "outputs": [],
   "source": [
    "description = requests.get(f'https://batterydata.energy.gov/api/3/action/package_show?id={dataset_ids[0]}', timeout=15).json()"
   ]
  },
  {
   "cell_type": "code",
   "execution_count": 6,
   "id": "c607fd94-63c6-4166-a333-181687d77683",
   "metadata": {},
   "outputs": [
    {
     "data": {
      "text/plain": [
       "{'cache_last_updated': None,\n",
       " 'cache_url': None,\n",
       " 'ckan_url': 'https://batterydata.energy.gov',\n",
       " 'created': '2024-03-05T16:54:49.292804',\n",
       " 'datastore_active': True,\n",
       " 'datastore_contains_all_records_of_source_file': True,\n",
       " 'description': None,\n",
       " 'format': 'CSV',\n",
       " 'hash': '00b74580d8cbe9e39957b1282f11e2e0',\n",
       " 'id': '43549194-c213-4ef6-ba43-87c2e01d7665',\n",
       " 'ignore_hash': False,\n",
       " 'last_modified': '2024-03-05T16:54:49.153749',\n",
       " 'metadata_modified': '2024-03-05T17:23:49.938489',\n",
       " 'mimetype': 'text/csv',\n",
       " 'mimetype_inner': None,\n",
       " 'name': 'Cell04 summary.csv',\n",
       " 'original_url': 'https://batterydata.energy.gov/dataset/71c72c7b-39e3-4748-90f0-2d631c0f1df8/resource/43549194-c213-4ef6-ba43-87c2e01d7665/download/cell04-summary.csv',\n",
       " 'package_id': '71c72c7b-39e3-4748-90f0-2d631c0f1df8',\n",
       " 'position': 4,\n",
       " 'resource_id': '43549194-c213-4ef6-ba43-87c2e01d7665',\n",
       " 'resource_type': None,\n",
       " 'set_url_type': False,\n",
       " 'size': 963875,\n",
       " 'state': 'active',\n",
       " 'task_created': '2024-03-05 16:54:49.823804',\n",
       " 'url': 'https://batterydata.energy.gov/dataset/71c72c7b-39e3-4748-90f0-2d631c0f1df8/resource/43549194-c213-4ef6-ba43-87c2e01d7665/download/cell04-summary.csv',\n",
       " 'url_type': 'upload'}"
      ]
     },
     "execution_count": 6,
     "metadata": {},
     "output_type": "execute_result"
    }
   ],
   "source": [
    "description['result']['resources'][4]"
   ]
  },
  {
   "cell_type": "markdown",
   "id": "bd43706f-b615-465c-9c6a-46060f08e1a8",
   "metadata": {},
   "source": [
    "We need a function to gather the download URLs to each then group them by name"
   ]
  },
  {
   "cell_type": "code",
   "execution_count": 7,
   "id": "8a87c837-965a-4189-9503-1734b6dfbf64",
   "metadata": {},
   "outputs": [
    {
     "data": {
      "text/plain": [
       "('cell01-summary.csv',\n",
       " 'https://batterydata.energy.gov/dataset/71c72c7b-39e3-4748-90f0-2d631c0f1df8/resource/8332d60a-422a-497a-b59e-5cb85a91c16a/download/cell01-summary.csv')"
      ]
     },
     "execution_count": 7,
     "metadata": {},
     "output_type": "execute_result"
    }
   ],
   "source": [
    "def get_file_paths(resc: list[dict]) -> dict[str, str]:\n",
    "    \"\"\"Get the paths to all CSVs that are part of the dataset\n",
    "\n",
    "    Args:\n",
    "        resc: Resource list\n",
    "    Returns:\n",
    "        Map of file name to URL\n",
    "    \"\"\"\n",
    "\n",
    "    return dict(\n",
    "        (Path(x['url'][7:]).name, x['url']) for x in resc if x['format'] == 'CSV'\n",
    "    )\n",
    "files = get_file_paths(description['result']['resources'])\n",
    "next(iter(files.items()))"
   ]
  },
  {
   "cell_type": "markdown",
   "id": "eb7498f0-60e5-4e0e-acc0-18ec14697e98",
   "metadata": {},
   "source": [
    "The battery data reader from `battdat` holds logic to perform the grouping"
   ]
  },
  {
   "cell_type": "code",
   "execution_count": 9,
   "id": "b91af25f-1a93-49b5-ba73-aa2fadaa1b88",
   "metadata": {},
   "outputs": [
    {
     "data": {
      "text/plain": [
       "['cell01-summary.csv', 'cell01-raw.csv']"
      ]
     },
     "execution_count": 9,
     "metadata": {},
     "output_type": "execute_result"
    }
   ],
   "source": [
    "next(reader.group(files.keys()))"
   ]
  },
  {
   "cell_type": "markdown",
   "id": "5ba819b1-3b5c-4bc5-9a0d-aa8113807208",
   "metadata": {},
   "source": [
    "## Perform the Download and Parse Loop\n",
    "Collect metadata and files to parse together, then download and parse them, then save to HDF5"
   ]
  },
  {
   "cell_type": "code",
   "execution_count": 10,
   "id": "3b6df4ef-a703-4065-b15e-12cd6709392f",
   "metadata": {},
   "outputs": [],
   "source": [
    "hdf5_path = Path('processed')\n",
    "if hdf5_path.exists():\n",
    "    rmtree(hdf5_path)\n",
    "hdf5_path.mkdir(exist_ok=True)"
   ]
  },
  {
   "cell_type": "code",
   "execution_count": 11,
   "id": "9eb30c16-b903-42ea-a2b4-094dfbf257c1",
   "metadata": {},
   "outputs": [],
   "source": [
    "bad_url_path = Path('bad-urls.txt')\n",
    "bad_url_path.unlink(missing_ok=True)"
   ]
  },
  {
   "cell_type": "code",
   "execution_count": 20,
   "id": "a9a492a8-cb03-42a6-9535-f370f84e9802",
   "metadata": {},
   "outputs": [
    {
     "name": "stderr",
     "output_type": "stream",
     "text": [
      "C:\\Users\\lward\\AppData\\Local\\miniconda3\\envs\\batcollect\\lib\\site-packages\\battdat\\io\\batterydata.py:212: DtypeWarning: Columns (19) have mixed types. Specify dtype option on import or set low_memory=False.\n",
      "  nrel_data = pd.read_csv(path)\n"
     ]
    }
   ],
   "source": [
    "for source in dataset_ids:\n",
    "    # Get the metadata and file list\n",
    "    description = requests.get(f'https://batterydata.energy.gov/api/3/action/package_show?id={source}', timeout=15).json()\n",
    "    base_metadata = generate_metadata(description['result'], ['https://doi.org/10.23919/ACC.2017.7963578'])\n",
    "    files = get_file_paths(description['result']['resources'])\n",
    "\n",
    "    # Parse each pair of files\n",
    "    for names in reader.group(files.keys()):\n",
    "        with TemporaryDirectory(dir='.') as tmp:\n",
    "            # Start by downloading into a temporary directory\n",
    "            tmp = Path(tmp)\n",
    "            paths = []\n",
    "            is_bad = False\n",
    "            for name in names:\n",
    "                url = files[name]\n",
    "                out_path = tmp / name\n",
    "                with out_path.open('wb') as fp:\n",
    "                    copyfileobj(requests.get(url, stream=True, timeout=15).raw, fp)\n",
    "                # Check if \"HTML error\" is in the file contents\n",
    "                with out_path.open() as fp:\n",
    "                    if '<html>' in fp.readline():\n",
    "                        is_bad = True\n",
    "                        with bad_url_path.open('a') as fo:\n",
    "                            print(url, file=fo)\n",
    "                    else:\n",
    "                        paths.append(out_path)\n",
    "\n",
    "            # Parse them into a battery metadata object\n",
    "            name = sorted(paths)[0].name[:-8]  # Get the name off the raw value\n",
    "            my_metadata = base_metadata.copy()\n",
    "            my_metadata.name = name\n",
    "            dataset = reader.read_dataset(paths, metadata=my_metadata)\n",
    "\n",
    "            # Save it to HDF5 \n",
    "            path = hdf5_path / f'{name}.h5'\n",
    "            dataset.to_hdf(path, complevel=9)"
   ]
  },
  {
   "cell_type": "code",
   "execution_count": null,
   "id": "3f9b633a-3d2f-4c6d-9737-1fbcd9847ee2",
   "metadata": {},
   "outputs": [],
   "source": []
  }
 ],
 "metadata": {
  "kernelspec": {
   "display_name": "Python 3 (ipykernel)",
   "language": "python",
   "name": "python3"
  },
  "language_info": {
   "codemirror_mode": {
    "name": "ipython",
    "version": 3
   },
   "file_extension": ".py",
   "mimetype": "text/x-python",
   "name": "python",
   "nbconvert_exporter": "python",
   "pygments_lexer": "ipython3",
   "version": "3.10.15"
  }
 },
 "nbformat": 4,
 "nbformat_minor": 5
}
